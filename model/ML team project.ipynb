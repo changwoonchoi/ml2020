{
 "cells": [
  {
   "cell_type": "code",
   "execution_count": null,
   "metadata": {
    "ExecuteTime": {
     "end_time": "2020-11-26T04:24:37.461663Z",
     "start_time": "2020-11-26T04:24:32.522601Z"
    }
   },
   "outputs": [],
   "source": [
    "import librosa\n",
    "import numpy as np\n",
    "import librosa.display\n",
    "import matplotlib.pyplot as plt\n",
    "import IPython.display as ipd\n",
    "import pandas as pd\n",
    "import os\n",
    "from sklearn.decomposition import PCA\n",
    "\n",
    "audios = []\n",
    "first = True\n",
    "sr = 44100\n",
    "\n",
    "for root, dirs, files in os.walk('./audio'):\n",
    "    for fname in files[:100]:\n",
    "#         ext = os.path.splitext(fname)[-2]\n",
    "#         if ext[-1] == 'F':\n",
    "        full_fname = os.path.join(root, fname)\n",
    "        audio,_ = librosa.load(full_fname, sr=sr, mono=False)\n",
    "        print(fname,'sr:',sr)\n",
    "        display(ipd.Audio(audio, rate=sr))\n",
    "        if first :\n",
    "            audios = audio\n",
    "            first = False\n",
    "        else:\n",
    "            audios = np.vstack((audios, audio))"
   ]
  },
  {
   "cell_type": "code",
   "execution_count": null,
   "metadata": {
    "ExecuteTime": {
     "end_time": "2020-11-22T06:05:44.780029Z",
     "start_time": "2020-11-22T06:05:44.770766Z"
    }
   },
   "outputs": [],
   "source": [
    "len(audios)"
   ]
  },
  {
   "cell_type": "code",
   "execution_count": null,
   "metadata": {
    "ExecuteTime": {
     "end_time": "2020-11-26T04:26:32.949392Z",
     "start_time": "2020-11-26T04:26:32.944040Z"
    }
   },
   "outputs": [],
   "source": [
    "i = 94 # 94, 55, 79\n",
    "\n",
    "audio = audios[2*i:2*(i+1)] \n",
    "audioL = audio[0]\n",
    "audioR = audio[1]"
   ]
  },
  {
   "cell_type": "code",
   "execution_count": null,
   "metadata": {
    "ExecuteTime": {
     "end_time": "2020-11-26T04:27:27.832623Z",
     "start_time": "2020-11-26T04:26:35.235673Z"
    },
    "scrolled": true
   },
   "outputs": [],
   "source": [
    "import time\n",
    "from sklearn.linear_model import LinearRegression\n",
    "window = 1470  # 1/30s\n",
    "hop = 147 # 1/300s\n",
    "\n",
    "audioL = audio[0]\n",
    "audioR = audio[1]\n",
    "audioL = np.pad(audioL, window)\n",
    "audioR = np.pad(audioR, window)\n",
    "\n",
    "x = np.array([-1,1])\n",
    "l = audio[0].shape[0] # 17640\n",
    "t = np.arange((l-window)//hop)/sr\n",
    "slope = []\n",
    "count=0\n",
    "for dt in range((l+window)//hop):\n",
    "    plt.figure(figsize=(10,10))\n",
    "    # plt.scatter(L,R, s=1)\n",
    "    plt.plot([-1,1],[-1,1],'k',linewidth=0.1)\n",
    "    plt.plot([-1,1],[1,-1],'k',linewidth=0.1)\n",
    "    plt.ylim([-1,1])\n",
    "    plt.xlim([-1,1])\n",
    "    plt.xlabel('L')\n",
    "    plt.ylabel('R')\n",
    "    plt.yticks([-1,-0.5,0,0.5,1])\n",
    "    L = audioL[hop*dt:window+hop*dt]\n",
    "    R = audioR[hop*dt:window+hop*dt]\n",
    "    plt.scatter(L, R, s=4, c=range(window),cmap = plt.cm.YlGnBu)\n",
    "    time.sleep(0.1)\n",
    "    reg = LinearRegression(fit_intercept=False).fit(L.reshape(-1,1), R)\n",
    "    a = reg.coef_[0]\n",
    "    y = a*x\n",
    "    plt.plot(x,y,'r',linewidth=0.5)\n",
    "#     time.sleep(1)\n",
    "#     plt.savefig(f'{i}_{count}.png')\n",
    "    count = count+1\n",
    "    plt.show()\n",
    "\n",
    "    a = np.arctan(a)*180/np.pi\n",
    "#         if (a >= -np.pi/2) and (a <= -np.pi/4):\n",
    "#             a = a+np.pi\n",
    "    slope = np.append(slope, a)\n",
    "\n"
   ]
  },
  {
   "cell_type": "code",
   "execution_count": null,
   "metadata": {
    "ExecuteTime": {
     "end_time": "2020-11-26T04:28:16.444516Z",
     "start_time": "2020-11-26T04:27:27.860840Z"
    },
    "scrolled": true
   },
   "outputs": [],
   "source": [
    "plt.rcParams.update({'font.size': 30})\n",
    "\n",
    "def LRMS_waveform(i):\n",
    "    global audios\n",
    "    L = audios[2*i]\n",
    "    R = audios[2*i+1]\n",
    "\n",
    "    M = (L+R)/2\n",
    "    S = (L-R)/2\n",
    "    display(ipd.Audio(audios[2*i:2*(i+1)],rate = 44100))\n",
    "    plt.figure(figsize = (18,8))\n",
    "    plt.subplots_adjust(left=0.125, bottom=0.1,  right=0.9, top=0.9, wspace=0.2, hspace=0.35)\n",
    "    plt.subplot(211)\n",
    "    plt.plot(t,L,linewidth=0.5)\n",
    "    plt.title('L')\n",
    "    plt.subplot(212)\n",
    "    plt.plot(t,R,linewidth=0.5)\n",
    "    plt.title('R')\n",
    "    plt.xlabel('time(s)')\n",
    "    plt.show()\n",
    "    \n",
    "#     plt.figure(figsize = (18,10))\n",
    "#     plt.subplots_adjust(left=0.125, bottom=0.1,  right=0.9, top=0.9, wspace=0.2, hspace=0.35)\n",
    "#     plt.subplot(211)\n",
    "#     plt.plot(t,M,linewidth=0.5)\n",
    "#     plt.title('M')\n",
    "#     plt.subplot(212)\n",
    "#     plt.plot(t,S,linewidth=0.5)\n",
    "#     plt.title('S')\n",
    "#     plt.ylim([-1,1])\n",
    "#     plt.xlabel('time(s)')\n",
    "#     plt.show()\n",
    "\n",
    "t = np.arange(0,0.4,1/sr)\n",
    "for i in range(100):\n",
    "    print(i,'th audio')\n",
    "    LRMS_waveform(i)"
   ]
  },
  {
   "cell_type": "code",
   "execution_count": null,
   "metadata": {
    "ExecuteTime": {
     "end_time": "2020-11-22T06:08:54.231372Z",
     "start_time": "2020-11-22T06:07:11.381062Z"
    },
    "scrolled": true
   },
   "outputs": [],
   "source": [
    "def to_stft(audio):\n",
    "    return librosa.amplitude_to_db(np.abs(librosa.stft(audio)), ref=np.max)\n",
    "def LRMS_STFT(i):\n",
    "    L = audios[2*i]\n",
    "    R = audios[2*i+1]\n",
    "    \n",
    "    \n",
    "    M = (L+R)/2\n",
    "    S = (L-R)/2\n",
    "    display(ipd.Audio(audios[2*i:2*(i+1)],rate = 44100))\n",
    "    plt.figure(figsize = (18,18))\n",
    "    plt.subplot(221)\n",
    "    librosa.display.specshow(to_stft(L),sr = 44100)\n",
    "    plt.title('L')\n",
    "    plt.subplot(222)\n",
    "    librosa.display.specshow(to_stft(R),sr = 44100)\n",
    "    plt.title('R')\n",
    "    plt.subplot(223)\n",
    "    librosa.display.specshow(to_stft(M),sr = 44100)\n",
    "    plt.title('M')\n",
    "    plt.subplot(224)\n",
    "    librosa.display.specshow(to_stft(S),sr = 44100)\n",
    "    plt.title('S')\n",
    "    plt.show()\n",
    "    display(ipd.Audio(audios[2*i:2*(i+1)],rate = 44100))\n",
    "    plt.figure(figsize = (18,18))\n",
    "    plt.subplot(221)\n",
    "    librosa.display.specshow(to_stft(L),sr = 44100, y_axis='log')\n",
    "    plt.title('L')\n",
    "    plt.subplot(222)\n",
    "    librosa.display.specshow(to_stft(R),sr = 44100, y_axis='log')\n",
    "    plt.title('R')\n",
    "    plt.subplot(223)\n",
    "    librosa.display.specshow(to_stft(M),sr = 44100, y_axis='log')\n",
    "    plt.title('M')\n",
    "    plt.subplot(224)\n",
    "    librosa.display.specshow(to_stft(S),sr = 44100, y_axis='log')\n",
    "    plt.title('S')\n",
    "    plt.show()\n",
    "\n",
    "for i in range(100):\n",
    "    print(i,'th audio')\n",
    "    LRMS_STFT(i)"
   ]
  },
  {
   "cell_type": "code",
   "execution_count": null,
   "metadata": {
    "ExecuteTime": {
     "end_time": "2020-11-23T08:56:27.665605Z",
     "start_time": "2020-11-23T08:56:27.654272Z"
    }
   },
   "outputs": [],
   "source": [
    "A = [61,57,33,51]\n",
    "B = [62,38,94,83]\n",
    "C = [55,59]\n",
    "D = [71,64,41,46]\n",
    "E = [58,70,79,77]\n",
    "F = [74,75,63,96]\n",
    "G = [95,56,92,91]\n",
    "H = [87,22]\n",
    "I = [97,21,85,34]\n",
    "J = [15,19,50,53]\n",
    "ALL = [A,B,C,D,E,F,G,H,I,J]"
   ]
  },
  {
   "cell_type": "code",
   "execution_count": null,
   "metadata": {
    "ExecuteTime": {
     "end_time": "2020-11-23T09:16:00.340757Z",
     "start_time": "2020-11-23T09:16:00.274133Z"
    },
    "scrolled": true
   },
   "outputs": [],
   "source": [
    "def LRMS_lissajous(i):\n",
    "    L = audios[2*i]\n",
    "    R = audios[2*i+1]\n",
    "    display(ipd.Audio(audios[2*i:2*(i+1)],rate = 44100))\n",
    "\n",
    "    plt.figure(figsize=(15,15))\n",
    "#     plt.subplot(121)\n",
    "    plt.plot([-1,1],[-1,1],'k',linewidth=1)\n",
    "    plt.scatter(L,R, s=1)\n",
    "    plt.plot([-1,1],[1,-1],'k',linewidth=0.1)\n",
    "    plt.ylim([-1,1])\n",
    "    plt.xlim([-1,1])\n",
    "    plt.legend(['mono'],loc='upper left')\n",
    "    plt.xlabel('L')\n",
    "    plt.ylabel('R')\n",
    "\n",
    "# #     plt.axes().set_aspect('equal')\n",
    "#     M = (L+R)/2\n",
    "#     S = (L-R)/2\n",
    "#     plt.subplot(122)\n",
    "#     plt.scatter(M,S, s=1)\n",
    "#     plt.ylim([-1,1])\n",
    "#     plt.xlim([-1,1])\n",
    "#     plt.plot([-1,1],[-1,1],'k',linewidth=0.1)\n",
    "#     plt.plot([-1,1],[1,-1],'k',linewidth=0.1)\n",
    "#     plt.xlabel('M')\n",
    "#     plt.ylabel('S')\n",
    "# #     plt.axes().set_aspect('equal')\n",
    "#     plt.title(i)\n",
    "# #     plt.savefig(f'./image/lissajous/{i}_lissajous.png')\n",
    "\n",
    "    plt.show()\n",
    "\n",
    "def moving_average(a, n=3) :\n",
    "    ret = np.cumsum(a, dtype=float)\n",
    "    ret[n:] = ret[n:] - ret[:-n]\n",
    "    return ret[n - 1:] / n\n",
    "\n",
    "def LR_lissajous_slope(i, window = 147, hop = 49, n=20):\n",
    "    global audios\n",
    "    l = audios[0].shape[0] # 17640\n",
    "    t = np.arange((l-window)//hop)/sr\n",
    "    slope = []\n",
    "    for dt in range((l-window)//hop):\n",
    "        L = audios[2*i][hop*dt:window+hop*dt]\n",
    "        R = audios[2*i+1][hop*dt:window+hop*dt]\n",
    "\n",
    "        a = np.dot(L,R)/np.dot(L,L)\n",
    "        a = np.arctan(a)\n",
    "#         if (a >= -np.pi/2) and (a <= -np.pi/4):\n",
    "#             a = a+np.pi\n",
    "        slope = np.append(slope, a)\n",
    "\n",
    "    plt.figure(figsize=(18,12))\n",
    "    plt.subplot(311)\n",
    "    plt.plot(t,slope)\n",
    "    slope_ma = moving_average(slope,n=n)\n",
    "    plt.plot(t[int(n/2):len(slope_ma)+int(n/2)],slope_ma,'y')\n",
    "    plt.ylim([-np.pi/2,np.pi])\n",
    "    plt.yticks([-np.pi/4,np.pi/4,np.pi*3/4],[-90,0,90])\n",
    "    plt.ylabel('angle from y=x')\n",
    "    plt.axhline(np.pi/4, color='k', linewidth=0.5)\n",
    "#     plt.show()\n",
    "\n",
    "def LR_PCA_ratio(i, window = 882, hop = 49):\n",
    "    global audios\n",
    "    l = audios[0].shape[0] # 17640\n",
    "    t = np.arange((l-window)//hop)/sr\n",
    "    ratio = []\n",
    "    signs = []\n",
    "    for dt in range((l-window)//hop):\n",
    "        L = audios[2*i][hop*dt:window+hop*dt]\n",
    "        R = audios[2*i+1][hop*dt:window+hop*dt]\n",
    "        pca = PCA(n_components=2)\n",
    "        pca.fit(np.vstack((L,R)).T)\n",
    "        if pca.components_[0,0]*pca.components_[0,1]>0:\n",
    "            r = pca.explained_variance_[0]/pca.explained_variance_[1]\n",
    "            sign = 1\n",
    "        else:\n",
    "            r = pca.explained_variance_[0]/pca.explained_variance_[1]\n",
    "            sign = -1\n",
    "#             print('reverse')\n",
    "        ratio = np.append(ratio, r)\n",
    "        signs = np.append(signs, sign)\n",
    "    plt.subplot(312)\n",
    "    plt.plot(t,signs*np.log(ratio))\n",
    "#     slope_ma = moving_average(slope,n=n)\n",
    "#     plt.plot(t[int(n/2):len(slope_ma)+int(n/2)],slope_ma,'y')\n",
    "    plt.ylim([-5,10])\n",
    "#     plt.yticks([-np.pi/4,np.pi/4,np.pi*3/4],[-90,0,90])\n",
    "    plt.title(i)\n",
    "    plt.ylabel('PCA ratio(log)')\n",
    "    plt.axhline(0, color='k', linewidth=0.5)\n",
    "    \n",
    "def LR_correlation(i, window = 147, hop = 49, n=20):\n",
    "    global audios\n",
    "    l = audios[0].shape[0] # 17640\n",
    "    t = np.arange((l-window)//hop)/sr\n",
    "    corr = []\n",
    "    for dt in range((l-window)//hop):\n",
    "        L = audios[2*i][hop*dt:window+hop*dt]\n",
    "        R = audios[2*i+1][hop*dt:window+hop*dt]\n",
    "        \n",
    "        c = pd.DataFrame(np.vstack((L,R)).T).corr().iloc[0,1]\n",
    "#         print(c)\n",
    "        corr = np.append(corr,c)\n",
    "\n",
    "    plt.subplot(313)\n",
    "    plt.plot(t,corr)\n",
    "    corr_ma = moving_average(corr,n=n)\n",
    "    plt.plot(t[int(n/2):len(corr_ma)+int(n/2)],corr_ma,'y')\n",
    "    plt.ylim([-1,1])\n",
    "#     plt.yticks([-np.pi/4,np.pi/4,np.pi*3/4],[-90,0,90])\n",
    "    plt.ylabel('correlation')\n",
    "    plt.axhline(0, color='k', linewidth=0.5)\n",
    "    plt.savefig(f'./image/metric/{i}_metric.png')\n",
    "    plt.show()\n",
    "\n",
    " "
   ]
  },
  {
   "cell_type": "code",
   "execution_count": null,
   "metadata": {
    "ExecuteTime": {
     "end_time": "2020-11-23T09:16:15.175299Z",
     "start_time": "2020-11-23T09:16:03.038700Z"
    },
    "scrolled": true
   },
   "outputs": [],
   "source": [
    "\n",
    "for i,SUB in enumerate(ALL):\n",
    "    for j,VAL in enumerate(SUB):\n",
    "        print(i,j,VAL)\n",
    "        LRMS_lissajous(VAL)\n",
    "#         LR_lissajous_slope(VAL, window = 147, hop = 49)\n",
    "#         LR_PCA_ratio(VAL, window = 882, hop = 147)\n",
    "#         LR_correlation(VAL, window = 147, hop = 49, n=20)\n",
    "    print('######################################################################################################################')\n",
    "    print('######################################################################################################################')\n",
    "    print('######################################################################################################################')\n"
   ]
  },
  {
   "cell_type": "code",
   "execution_count": null,
   "metadata": {
    "ExecuteTime": {
     "end_time": "2020-11-23T13:23:41.441465Z",
     "start_time": "2020-11-23T13:23:41.433475Z"
    }
   },
   "outputs": [],
   "source": [
    "def LR_lissajous_slope(i, window = 147, hop = 49, n=20):\n",
    "    global audios\n",
    "    l = audios[0].shape[0] # 17640\n",
    "    t = np.arange((l-window)//hop)/sr\n",
    "    slope = []\n",
    "    for dt in range((l-window)//hop):\n",
    "        L = audios[2*i][hop*dt:window+hop*dt]\n",
    "        R = audios[2*i+1][hop*dt:window+hop*dt]\n",
    "\n",
    "        a = np.dot(L,R)/np.dot(L,L)\n",
    "        a = np.arctan(a)\n",
    "#         if (a >= -np.pi/2) and (a <= -np.pi/4):\n",
    "#             a = a+np.pi\n",
    "        slope = np.append(slope, a)\n",
    "\n",
    "    plt.figure(figsize=(18,12))\n",
    "    plt.subplot(311)\n",
    "    plt.plot(t,slope)\n",
    "    slope_ma = moving_average(slope,n=n)\n",
    "    plt.plot(t[int(n/2):len(slope_ma)+int(n/2)],slope_ma,'y')\n",
    "    plt.ylim([-np.pi/2,np.pi])\n",
    "    plt.yticks([-np.pi/4,np.pi/4,np.pi*3/4],[-90,0,90])\n",
    "    plt.ylabel('angle from y=x')\n",
    "    plt.axhline(np.pi/4, color='k', linewidth=0.5)\n"
   ]
  }
 ],
 "metadata": {
  "kernelspec": {
   "display_name": "Python 3",
   "language": "python",
   "name": "python3"
  },
  "language_info": {
   "codemirror_mode": {
    "name": "ipython",
    "version": 3
   },
   "file_extension": ".py",
   "mimetype": "text/x-python",
   "name": "python",
   "nbconvert_exporter": "python",
   "pygments_lexer": "ipython3",
   "version": "3.8.5"
  },
  "toc": {
   "base_numbering": 1,
   "nav_menu": {},
   "number_sections": true,
   "sideBar": true,
   "skip_h1_title": false,
   "title_cell": "Table of Contents",
   "title_sidebar": "Contents",
   "toc_cell": false,
   "toc_position": {},
   "toc_section_display": true,
   "toc_window_display": false
  },
  "varInspector": {
   "cols": {
    "lenName": 16,
    "lenType": 16,
    "lenVar": 40
   },
   "kernels_config": {
    "python": {
     "delete_cmd_postfix": "",
     "delete_cmd_prefix": "del ",
     "library": "var_list.py",
     "varRefreshCmd": "print(var_dic_list())"
    },
    "r": {
     "delete_cmd_postfix": ") ",
     "delete_cmd_prefix": "rm(",
     "library": "var_list.r",
     "varRefreshCmd": "cat(var_dic_list()) "
    }
   },
   "types_to_exclude": [
    "module",
    "function",
    "builtin_function_or_method",
    "instance",
    "_Feature"
   ],
   "window_display": false
  }
 },
 "nbformat": 4,
 "nbformat_minor": 4
}
