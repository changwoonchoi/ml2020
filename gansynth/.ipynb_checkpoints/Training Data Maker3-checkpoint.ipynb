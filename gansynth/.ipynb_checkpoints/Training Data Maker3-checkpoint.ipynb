{
 "cells": [
  {
   "cell_type": "code",
   "execution_count": 1,
   "metadata": {},
   "outputs": [
    {
     "ename": "ModuleNotFoundError",
     "evalue": "No module named 'torch'",
     "output_type": "error",
     "traceback": [
      "\u001b[0;31m---------------------------------------------------------------------------\u001b[0m",
      "\u001b[0;31mModuleNotFoundError\u001b[0m                       Traceback (most recent call last)",
      "\u001b[0;32m<ipython-input-1-515e6510800a>\u001b[0m in \u001b[0;36m<module>\u001b[0;34m\u001b[0m\n\u001b[0;32m----> 1\u001b[0;31m \u001b[0;32mimport\u001b[0m \u001b[0mtorch\u001b[0m\u001b[0;34m\u001b[0m\u001b[0;34m\u001b[0m\u001b[0m\n\u001b[0m\u001b[1;32m      2\u001b[0m \u001b[0;32mimport\u001b[0m \u001b[0mtorch\u001b[0m\u001b[0;34m.\u001b[0m\u001b[0mutils\u001b[0m\u001b[0;34m.\u001b[0m\u001b[0mdata\u001b[0m \u001b[0;32mas\u001b[0m \u001b[0mdata\u001b[0m\u001b[0;34m\u001b[0m\u001b[0;34m\u001b[0m\u001b[0m\n\u001b[1;32m      3\u001b[0m \u001b[0;32mimport\u001b[0m \u001b[0mtorchvision\u001b[0m\u001b[0;34m.\u001b[0m\u001b[0mtransforms\u001b[0m \u001b[0;32mas\u001b[0m \u001b[0mtransforms\u001b[0m\u001b[0;34m\u001b[0m\u001b[0;34m\u001b[0m\u001b[0m\n\u001b[1;32m      4\u001b[0m \u001b[0;32mimport\u001b[0m \u001b[0mnumpy\u001b[0m \u001b[0;32mas\u001b[0m \u001b[0mnp\u001b[0m\u001b[0;34m\u001b[0m\u001b[0;34m\u001b[0m\u001b[0m\n\u001b[1;32m      5\u001b[0m \u001b[0;32mfrom\u001b[0m \u001b[0mpytorch_nsynth_lib\u001b[0m\u001b[0;34m.\u001b[0m\u001b[0mguanaset\u001b[0m \u001b[0;32mimport\u001b[0m \u001b[0mGset\u001b[0m\u001b[0;34m\u001b[0m\u001b[0;34m\u001b[0m\u001b[0m\n",
      "\u001b[0;31mModuleNotFoundError\u001b[0m: No module named 'torch'"
     ]
    }
   ],
   "source": [
    "import torch\n",
    "import torch.utils.data as data\n",
    "import torchvision.transforms as transforms\n",
    "import numpy as np\n",
    "from pytorch_nsynth_lib.guanaset import Gset\n",
    "from IPython.display import Audio\n",
    "import os\n",
    "import librosa\n",
    "import librosa.display\n",
    "import phase_operation\n",
    "import spectrograms_helper as spec_helper\n",
    "import matplotlib.pyplot as plt"
   ]
  },
  {
   "cell_type": "code",
   "execution_count": 2,
   "metadata": {},
   "outputs": [],
   "source": [
    "toFloat = transforms.Lambda(lambda x: x / np.iinfo(np.int16).max)\n",
    "dataset = Gset(\n",
    "        \"../data\",\n",
    "        transform=toFloat)\n",
    "loader = data.DataLoader(dataset, batch_size=1, shuffle=True)"
   ]
  },
  {
   "cell_type": "code",
   "execution_count": 13,
   "metadata": {},
   "outputs": [],
   "source": [
    "os.environ[\"CUDA_VISIBLE_DEVICES\"] = \"0,1\""
   ]
  },
  {
   "cell_type": "code",
   "execution_count": 4,
   "metadata": {},
   "outputs": [],
   "source": [
    "def expand(mat):\n",
    "    expand_vec = np.expand_dims(mat[:,34],axis=1)\n",
    "    expanded = np.hstack((mat,expand_vec))\n",
    "    return expanded"
   ]
  },
  {
   "cell_type": "code",
   "execution_count": 5,
   "metadata": {},
   "outputs": [],
   "source": [
    "def reduce(mat):\n",
    "    return np.delete(mat, np.s_[32:], axis=1)"
   ]
  },
  {
   "cell_type": "code",
   "execution_count": 16,
   "metadata": {},
   "outputs": [
    {
     "name": "stdout",
     "output_type": "stream",
     "text": [
      "1000\n",
      "2000\n",
      "3000\n",
      "4000\n",
      "4000 saved\n",
      "5000\n",
      "6000\n",
      "7000\n",
      "8000\n",
      "8000 saved\n",
      "9000\n",
      "10000\n",
      "11000\n",
      "12000\n",
      "12000 saved\n",
      "13000\n",
      "14000\n",
      "15000\n",
      "16000\n",
      "16000 saved\n",
      "17000\n",
      "18000\n",
      "19000\n",
      "20000\n",
      "20000 saved\n",
      "21000\n",
      "22000\n",
      "23000\n",
      "24000\n",
      "24000 saved\n",
      "25000\n",
      "25904 saved\n"
     ]
    }
   ],
   "source": [
    "spec_list=[]\n",
    "pitch_list=[]\n",
    "IF_list =[]\n",
    "mel_spec_list=[]\n",
    "mel_IF_list=[]\n",
    "\n",
    "pitch_set =set()\n",
    "count=0\n",
    "for samples_left, samples_right, pitches in loader:\n",
    "\n",
    "    sample_left = samples_left.data.numpy().squeeze()\n",
    "    sample_right = samples_right.data.numpy().squeeze()\n",
    "    \n",
    "#     sample_mid = ( sample_left + sample_right ) / 2\n",
    "#     sample_side = ( sample_left - sample_right ) / 2\n",
    "\n",
    "#     \"\"\"재정의, left가 mid고 right가 side임\"\"\"\n",
    "#     sample_left = sample_mid\n",
    "#     sample_right = sample_side\n",
    "    \n",
    "    spec_left = librosa.stft(sample_left, n_fft=2048, hop_length = 512)\n",
    "    spec_right = librosa.stft(sample_right, n_fft=2048, hop_length = 512)\n",
    "    \n",
    "#     print(spec_left[100])\n",
    "    \n",
    "    \"\"\" log10 말고 log로 처리\"\"\"\n",
    "    magnitude_left = np.log(np.abs(spec_left)+ 1.0e-6)[:1024]\n",
    "    magnitude_right = np.log(np.abs(spec_right)+ 1.0e-6)[:1024]\n",
    "    \n",
    "    angle_left = np.angle(spec_left)\n",
    "    angle_right = np.angle(spec_right)\n",
    "\n",
    "    IF_left = phase_operation.instantaneous_frequency(angle_left,time_axis=1)[:1024]\n",
    "    IF_right = phase_operation.instantaneous_frequency(angle_right,time_axis=1)[:1024]\n",
    "    \n",
    "    magnitude_left = reduce(magnitude_left)\n",
    "    magnitude_right = reduce(magnitude_right)   \n",
    "    \n",
    "    IF_left = reduce(IF_left)\n",
    "    IF_right = reduce(IF_right)\n",
    "    \n",
    "    logmelmag2_left, mel_p_left = spec_helper.specgrams_to_melspecgrams(magnitude_left, IF_left)\n",
    "    logmelmag2_right, mel_p_right = spec_helper.specgrams_to_melspecgrams(magnitude_right, IF_right)\n",
    "    \n",
    "#     print(magnitude_left.shape)\n",
    "    \n",
    "    assert magnitude_left.shape ==(1024, 32)\n",
    "    assert magnitude_right.shape ==(1024, 32)\n",
    "    assert IF_left.shape ==(1024, 32)\n",
    "    assert IF_right.shape ==(1024, 32)\n",
    "    \n",
    "    pitch_list.append(pitches)\n",
    "    mel_spec_list.append([logmelmag2_left,logmelmag2_right])\n",
    "    mel_IF_list.append([mel_p_left,mel_p_right])\n",
    "    pitch_set.add(pitches)\n",
    "    \n",
    "    count+=1\n",
    "    if count%1000==0:\n",
    "        print(count)\n",
    "    if count%4000==0:\n",
    "        np.save('../np_array_LR/' + 'pitch_list_' + str(count), pitch_list)\n",
    "        np.save('../np_array_LR/' + 'mel_spec_list_' + str(count), mel_spec_list)        \n",
    "        np.save('../np_array_LR/' + 'mel_IF_list_' + str(count), mel_IF_list)        \n",
    "        pitch_list=[]\n",
    "        mel_spec_list=[]\n",
    "        mel_IF_list=[]\n",
    "        print(str(count) + \" saved\")\n",
    "np.save('../np_array_LR/' + 'pitch_list_' + str(count), pitch_list)\n",
    "np.save('../np_array_LR/' + 'mel_spec_list_' + str(count), mel_spec_list)        \n",
    "np.save('../np_array_LR/' + 'mel_IF_list_' + str(count), mel_IF_list)\n",
    "print(str(count) + \" saved\")"
   ]
  },
  {
   "cell_type": "code",
   "execution_count": 17,
   "metadata": {},
   "outputs": [
    {
     "ename": "NameError",
     "evalue": "name 'train_modify' is not defined",
     "output_type": "error",
     "traceback": [
      "\u001b[0;31m---------------------------------------------------------------------------\u001b[0m",
      "\u001b[0;31mNameError\u001b[0m                                 Traceback (most recent call last)",
      "\u001b[0;32m<ipython-input-17-10f5f68ef839>\u001b[0m in \u001b[0;36m<module>\u001b[0;34m\u001b[0m\n\u001b[0;32m----> 1\u001b[0;31m \u001b[0mtrain_modify\u001b[0m\u001b[0;34m.\u001b[0m\u001b[0mpy\u001b[0m\u001b[0;34m\u001b[0m\u001b[0;34m\u001b[0m\u001b[0m\n\u001b[0m",
      "\u001b[0;31mNameError\u001b[0m: name 'train_modify' is not defined"
     ]
    }
   ],
   "source": []
  }
 ],
 "metadata": {
  "kernelspec": {
   "display_name": "Python 3",
   "language": "python",
   "name": "python3"
  },
  "language_info": {
   "codemirror_mode": {
    "name": "ipython",
    "version": 3
   },
   "file_extension": ".py",
   "mimetype": "text/x-python",
   "name": "python",
   "nbconvert_exporter": "python",
   "pygments_lexer": "ipython3",
   "version": "3.8.5"
  }
 },
 "nbformat": 4,
 "nbformat_minor": 2
}
